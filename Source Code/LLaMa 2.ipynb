{
 "cells": [
  {
   "cell_type": "code",
   "execution_count": 17,
   "id": "a093524b-3afe-49bf-b714-8627fbbf9ee9",
   "metadata": {},
   "outputs": [],
   "source": [
    "# pip install gradientai --upgrade"
   ]
  },
  {
   "cell_type": "code",
   "execution_count": 18,
   "id": "0005717d-398d-44b0-9267-491c27d8bf32",
   "metadata": {},
   "outputs": [],
   "source": [
    "import os\n",
    "os.environ['GRADIENT_ACCESS_TOKEN']='cVXVwBpNSabYmMzHQnkoW0hTkg2ix0Bf'\n",
    "os.environ['GRADIENT_WORKSPACE_ID']='fca1fd5f-c39b-41e6-bebe-cdc955206290_workspace'"
   ]
  },
  {
   "cell_type": "code",
   "execution_count": 19,
   "id": "55fdf5d2-30da-4dcf-b77e-ba4dc7dfc9bf",
   "metadata": {},
   "outputs": [],
   "source": [
    "from gradientai import Gradient"
   ]
  },
  {
   "cell_type": "code",
   "execution_count": 38,
   "id": "3afd979f-4086-4de1-853a-e6352edabdb2",
   "metadata": {},
   "outputs": [
    {
     "name": "stdout",
     "output_type": "stream",
     "text": [
      "Created model adapter with id c09ef899-6894-471d-8d92-5fce8b1a74ad_model_adapter\n",
      "Asking: ### Instruction: Who is Arsalan Bakhtiar? \n",
      "\n",
      "### Response:\n",
      "Generated (before fine-tune): Arsalan Bakhtiar is a well-known Iranian-American entrepreneur and businessman. He is the founder and CEO of several successful companies, including BKT Strategies, a consulting firm that provides strategic advice and support to businesses and organizations. Bakhtiar is also a philanthropist and a prominent figure in the Iranian-American community.\n",
      "Generated (after fine-tune): Arsalan Bakhtiar is a well-known Iranian-American entrepreneur and businessman. He is the founder and CEO of several successful companies, including BKT Strategies, a consulting firm that provides strategic advice and support to businesses and organizations. Bakhtiar is also a philanthropist and a prominent figure in the Iranian-American community.\n"
     ]
    }
   ],
   "source": [
    "from gradientai import Gradient\n",
    "\n",
    "def main():\n",
    "  with Gradient() as gradient:\n",
    "      # Loading up the base model\n",
    "      # base_model = gradient.get_base_model(base_model_slug=\"nous-hermes2\")\n",
    "\n",
    "      # # Copy of the base model which can be fine tune\n",
    "      # new_model_adapter = base_model.create_model_adapter(\n",
    "      #     name=\"test model 3\"\n",
    "      # )\n",
    "      # Printing the model adapter id\n",
    "      print(f\"Created model adapter with id {new_model_adapter.id}\")\n",
    "      sample_query = \"### Instruction: Who is Arsalan Bakhtiar? \\n\\n### Response:\"\n",
    "      print(f\"Asking: {sample_query}\")\n",
    "\n",
    "      # before fine-tuning\n",
    "      completion = new_model_adapter.complete(query=sample_query, max_generated_token_count=100).generated_output\n",
    "      print(f\"Generated (before fine-tune): {completion}\")\n",
    "\n",
    "      samples = [\n",
    "        { \"inputs\": \"### Instruction: Who is Arsalan Bakhtiar? \\n\\n### Response: Arsalan Bakhtiar is a Student in UET Peshawar\" },\n",
    "        { \"inputs\": \"### Instruction: Who is the person named Arsalan Bakhtiar ? \\n\\n### Response: Arsalan Bakhtiar is a CS & IT Student in UET\" },\n",
    "        { \"inputs\": \"### Instruction: Can you tell me about Arsalan Bakhtiar? \\n\\n### Response: Arsalan Bakhtiar is Programmer\" },\n",
    "      ]\n",
    "\n",
    "      # samples = [\n",
    "      #   { \"inputs\": \"### Instruction: According to Gran , the company has no plans to move all production to Russia , although that is where the company is growing  \\n\\n### Response: The stock goes down\" },\n",
    "      #   { \"inputs\": \"### Instruction: For the last quarter of 2010 , Componenta 's net sales doubled to EUR131m from EUR76m for the same period a year earlier , while it moved to a zero pre-tax profit from a pre-tax loss of EUR7m  \\n\\n### Response: The stock goes up\" },\n",
    "      #   { \"inputs\": \"### Instruction: Sales have risen in other export markets  \\n\\n### Response: The stock goes up\" },\n",
    "      #   { \"inputs\": \"### Instruction: Tiimari operates 194 stores in six countries -- including its core Finnish market -- and generated a turnover of 76.5 mln eur in 2005   \\n\\n### Response: The stock goes down\" },\n",
    "      #   { \"inputs\": \"### Instruction: In 2009 , Fiskars ' cash flow from operating activities amounted to EUR121m , up from EUR97m in the previous year   \\n\\n### Response: The stock goes up\" },\n",
    "      #   { \"inputs\": \"### Instruction: Following this increase Huhtamaki 's registered share capital is EUR360 .62 m and the number of shares outstanding is 106,063,320   \\n\\n### Response: The stock goes down\" },\n",
    "      #   { \"inputs\": \"### Instruction: The difference between U.S. and Canada: Canadians are happy to suspend civil liberties in a pandemic, says a new survey  \\n\\n### Response: The stock goes down\" },\n",
    "      #   { \"inputs\": \"### Instruction: b'Pakistan among most corrupt nations in the world  \\n\\n### Response: The stock goes down\" }\n",
    "      # ]\n",
    "\n",
    "      # this is where fine-tuning happens\n",
    "      # num_epochs is the number of times you fine-tune the model\n",
    "      # more epochs tends to get better results, but you also run the risk of \"overfitting\"\n",
    "      # play around with this number to find what works best for you\n",
    "      # num_epochs = 6\n",
    "      # count = 0\n",
    "      # while count < num_epochs:\n",
    "      #     print(f\"Fine-tuning the model, iteration {count + 1}\")\n",
    "      #     new_model_adapter.fine_tune(samples=samples)\n",
    "      #     count = count + 1\n",
    "\n",
    "      # after fine-tuning\n",
    "      completion = new_model_adapter.complete(query=sample_query, max_generated_token_count=100).generated_output\n",
    "      print(f\"Generated (after fine-tune): {completion}\")\n",
    "\n",
    "      # If you wnat to save this fine tune model just comment the line\n",
    "      # new_model_adapter.delete()\n",
    "\n",
    "if __name__ == \"__main__\":\n",
    "    main()"
   ]
  },
  {
   "cell_type": "code",
   "execution_count": 39,
   "id": "876121aa-8441-4185-9974-16991b693120",
   "metadata": {},
   "outputs": [
    {
     "ename": "StopIteration",
     "evalue": "",
     "output_type": "error",
     "traceback": [
      "\u001b[1;31m---------------------------------------------------------------------------\u001b[0m",
      "\u001b[1;31mStopIteration\u001b[0m                             Traceback (most recent call last)",
      "Cell \u001b[1;32mIn[39], line 1\u001b[0m\n\u001b[1;32m----> 1\u001b[0m base_model \u001b[38;5;241m=\u001b[39m \u001b[43mgradient\u001b[49m\u001b[38;5;241;43m.\u001b[39;49m\u001b[43mget_base_model\u001b[49m\u001b[43m(\u001b[49m\u001b[43mbase_model_slug\u001b[49m\u001b[38;5;241;43m=\u001b[39;49m\u001b[38;5;124;43m\"\u001b[39;49m\u001b[38;5;124;43mtest model 3\u001b[39;49m\u001b[38;5;124;43m\"\u001b[39;49m\u001b[43m)\u001b[49m\n\u001b[0;32m      2\u001b[0m sample_query \u001b[38;5;241m=\u001b[39m \u001b[38;5;124m\"\u001b[39m\u001b[38;5;124m### Instruction: Who is Arsalan Bakhtiar? \u001b[39m\u001b[38;5;130;01m\\n\u001b[39;00m\u001b[38;5;130;01m\\n\u001b[39;00m\u001b[38;5;124m### Response:\u001b[39m\u001b[38;5;124m\"\u001b[39m\n\u001b[0;32m      3\u001b[0m completion \u001b[38;5;241m=\u001b[39m new_model_adapter\u001b[38;5;241m.\u001b[39mcomplete(query\u001b[38;5;241m=\u001b[39msample_query, max_generated_token_count\u001b[38;5;241m=\u001b[39m\u001b[38;5;241m100\u001b[39m)\u001b[38;5;241m.\u001b[39mgenerated_output\n",
      "File \u001b[1;32m~\\AppData\\Roaming\\Python\\Python312\\site-packages\\gradientai\\_gradient.py:124\u001b[0m, in \u001b[0;36mGradient.get_base_model\u001b[1;34m(self, base_model_slug)\u001b[0m\n\u001b[0;32m    122\u001b[0m \u001b[38;5;28;01mdef\u001b[39;00m \u001b[38;5;21mget_base_model\u001b[39m(\u001b[38;5;28mself\u001b[39m, \u001b[38;5;241m*\u001b[39m, base_model_slug: \u001b[38;5;28mstr\u001b[39m) \u001b[38;5;241m-\u001b[39m\u001b[38;5;241m>\u001b[39m BaseModel:\n\u001b[0;32m    123\u001b[0m     models: List[BaseModel] \u001b[38;5;241m=\u001b[39m \u001b[38;5;28mself\u001b[39m\u001b[38;5;241m.\u001b[39mlist_models(only_base\u001b[38;5;241m=\u001b[39m\u001b[38;5;28;01mTrue\u001b[39;00m)\n\u001b[1;32m--> 124\u001b[0m     \u001b[38;5;28;01mreturn\u001b[39;00m \u001b[38;5;28;43mnext\u001b[39;49m\u001b[43m(\u001b[49m\n\u001b[0;32m    125\u001b[0m \u001b[43m        \u001b[49m\u001b[38;5;28;43mfilter\u001b[39;49m\u001b[43m(\u001b[49m\u001b[38;5;28;43;01mlambda\u001b[39;49;00m\u001b[43m \u001b[49m\u001b[43mmodel\u001b[49m\u001b[43m:\u001b[49m\u001b[43m \u001b[49m\u001b[43mmodel\u001b[49m\u001b[38;5;241;43m.\u001b[39;49m\u001b[43m_slug\u001b[49m\u001b[43m \u001b[49m\u001b[38;5;241;43m==\u001b[39;49m\u001b[43m \u001b[49m\u001b[43mbase_model_slug\u001b[49m\u001b[43m,\u001b[49m\u001b[43m \u001b[49m\u001b[43mmodels\u001b[49m\u001b[43m)\u001b[49m\n\u001b[0;32m    126\u001b[0m \u001b[43m    \u001b[49m\u001b[43m)\u001b[49m\n",
      "\u001b[1;31mStopIteration\u001b[0m: "
     ]
    }
   ],
   "source": [
    " base_model = gradient.get_base_model(base_model_slug=\"test model 3\")\n",
    "sample_query = \"### Instruction: Who is Arsalan Bakhtiar? \\n\\n### Response:\"\n",
    "completion = new_model_adapter.complete(query=sample_query, max_generated_token_count=100).generated_output\n",
    "print(f\"Responce (after fine-tune): {completion}\")"
   ]
  },
  {
   "cell_type": "code",
   "execution_count": 21,
   "id": "2315551d-5536-4a91-8ec0-ace7503b0bb8",
   "metadata": {},
   "outputs": [
    {
     "name": "stdout",
     "output_type": "stream",
     "text": [
      "Created model adapter with id c09ef899-6894-471d-8d92-5fce8b1a74ad_model_adapter\n",
      "Asking: ### According to Gran , the company has no plans to move all production to Russia , although that is where the company is growing \n",
      "\n",
      "### Response:\n"
     ]
    }
   ],
   "source": [
    "with Gradient() as gradient:\n",
    "      # Loading up the base model\n",
    "      base_model = gradient.get_base_model(base_model_slug=\"nous-hermes2\")\n",
    "\n",
    "      # Copy of the base model which can be fine tune\n",
    "      new_model_adapter = base_model.create_model_adapter(\n",
    "          name=\"test model 3\"\n",
    "      )\n",
    "      # Printing the model adapter id\n",
    "      print(f\"Created model adapter with id {new_model_adapter.id}\")\n",
    "      sample_query = \"### According to Gran , the company has no plans to move all production to Russia , although that is where the company is growing \\n\\n### Response:\"\n",
    "      print(f\"Asking: {sample_query}\")"
   ]
  },
  {
   "cell_type": "code",
   "execution_count": 22,
   "id": "7a7902be-c981-48db-9ad0-21ad9d6ab679",
   "metadata": {},
   "outputs": [
    {
     "name": "stdout",
     "output_type": "stream",
     "text": [
      "Generated (before fine-tune):  According to Gran, the company has no plans to move all production to Russia, although that is where the company is growing.\n"
     ]
    }
   ],
   "source": [
    "# sample_query = \"### According to Gran , the company has no plans to move all production to Russia , although that is where the company is growing \\n\\n### Response:\"\n",
    "# completion = new_model_adapter.complete(query=sample_query, max_generated_token_count=100).generated_output\n",
    "# print(f\"Generated (after fine-tune): {completion}\")\n",
    "\n",
    "# before fine-tuning\n",
    "completion = new_model_adapter.complete(query=sample_query, max_generated_token_count=100).generated_output\n",
    "print(f\"Generated (before fine-tune): {completion}\")"
   ]
  },
  {
   "cell_type": "code",
   "execution_count": null,
   "id": "84e460f0-0926-4bdd-8c60-fd80408648df",
   "metadata": {},
   "outputs": [],
   "source": []
  }
 ],
 "metadata": {
  "kernelspec": {
   "display_name": "Python 3 (ipykernel)",
   "language": "python",
   "name": "python3"
  },
  "language_info": {
   "codemirror_mode": {
    "name": "ipython",
    "version": 3
   },
   "file_extension": ".py",
   "mimetype": "text/x-python",
   "name": "python",
   "nbconvert_exporter": "python",
   "pygments_lexer": "ipython3",
   "version": "3.12.0"
  }
 },
 "nbformat": 4,
 "nbformat_minor": 5
}
